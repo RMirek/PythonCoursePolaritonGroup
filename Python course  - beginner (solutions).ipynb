{
 "cells": [
  {
   "cell_type": "markdown",
   "metadata": {},
   "source": [
    "# Python course for exciton-polariton group - beginner level"
   ]
  },
  {
   "cell_type": "markdown",
   "metadata": {},
   "source": [
    "## Basic tasks - single line"
   ]
  },
  {
   "cell_type": "markdown",
   "metadata": {},
   "source": [
    "### Hello World!"
   ]
  },
  {
   "cell_type": "markdown",
   "metadata": {},
   "source": [
    "Write a (single line) code printing <font color='magenta'>Hello World!</font>."
   ]
  },
  {
   "cell_type": "code",
   "execution_count": 8,
   "metadata": {},
   "outputs": [
    {
     "name": "stdout",
     "output_type": "stream",
     "text": [
      "Hello World!\n"
     ]
    }
   ],
   "source": [
    "print('Hello World!') #Works only with quotation marks (single or double)."
   ]
  },
  {
   "cell_type": "markdown",
   "metadata": {},
   "source": [
    "### Printing year"
   ]
  },
  {
   "cell_type": "markdown",
   "metadata": {},
   "source": [
    "Write a (single line) code printing the actual year."
   ]
  },
  {
   "cell_type": "code",
   "execution_count": 9,
   "metadata": {},
   "outputs": [
    {
     "name": "stdout",
     "output_type": "stream",
     "text": [
      "2021\n"
     ]
    }
   ],
   "source": [
    "print(2021) #As you an see, we can print not only strings but also numbers (int, float...)."
   ]
  },
  {
   "cell_type": "markdown",
   "metadata": {},
   "source": [
    "### Using operators"
   ]
  },
  {
   "cell_type": "markdown",
   "metadata": {},
   "source": [
    "Write a (single line) code that prints the result for 1239.84 divided by 745."
   ]
  },
  {
   "cell_type": "code",
   "execution_count": 3,
   "metadata": {},
   "outputs": [
    {
     "name": "stdout",
     "output_type": "stream",
     "text": [
      "1.6642147651006711\n"
     ]
    }
   ],
   "source": [
    "print(1239.84/745) #Printed value with float precision. The same for +, -, *, /, **, //"
   ]
  },
  {
   "cell_type": "markdown",
   "metadata": {},
   "source": [
    "### Number of seconds in a year"
   ]
  },
  {
   "cell_type": "markdown",
   "metadata": {},
   "source": [
    "Write a (single line) code printing the number of seconds in a year."
   ]
  },
  {
   "cell_type": "code",
   "execution_count": 4,
   "metadata": {},
   "outputs": [
    {
     "name": "stdout",
     "output_type": "stream",
     "text": [
      "31536000\n"
     ]
    }
   ],
   "source": [
    "print(365*24*60*60) #Multiple operations inside print function"
   ]
  },
  {
   "cell_type": "markdown",
   "metadata": {},
   "source": [
    "### Characters counting"
   ]
  },
  {
   "cell_type": "markdown",
   "metadata": {},
   "source": [
    "Print the number of characters in the text <font color='magenta'>Exciton-polaritons are awesome!</font>."
   ]
  },
  {
   "cell_type": "code",
   "execution_count": 10,
   "metadata": {},
   "outputs": [
    {
     "name": "stdout",
     "output_type": "stream",
     "text": [
      "31\n"
     ]
    }
   ],
   "source": [
    "print(len('Exciton-polaritons are awesome!')) #Special function inside print function. Note that space ' ' is also a character."
   ]
  },
  {
   "cell_type": "markdown",
   "metadata": {},
   "source": [
    "## Basic tasks - longer code"
   ]
  },
  {
   "cell_type": "markdown",
   "metadata": {},
   "source": [
    "### Words counting"
   ]
  },
  {
   "cell_type": "markdown",
   "metadata": {},
   "source": [
    "Print the number of words in the randomly chosen text."
   ]
  },
  {
   "cell_type": "code",
   "execution_count": 11,
   "metadata": {},
   "outputs": [
    {
     "name": "stdout",
     "output_type": "stream",
     "text": [
      "6\n"
     ]
    }
   ],
   "source": [
    "randomText = \"Python is quite easy to learn\"\n",
    "print(len(randomText.split())) #Check print(randomText.split()) before"
   ]
  },
  {
   "cell_type": "markdown",
   "metadata": {},
   "source": [
    "### Print numbers using loop"
   ]
  },
  {
   "cell_type": "markdown",
   "metadata": {},
   "source": [
    "Print the ten digits in order, one per line."
   ]
  },
  {
   "cell_type": "code",
   "execution_count": 12,
   "metadata": {},
   "outputs": [
    {
     "name": "stdout",
     "output_type": "stream",
     "text": [
      "0\n",
      "1\n",
      "2\n",
      "3\n",
      "4\n",
      "5\n",
      "6\n",
      "7\n",
      "8\n",
      "9\n"
     ]
    }
   ],
   "source": [
    "for i in range(10):\n",
    "    print(i)"
   ]
  },
  {
   "cell_type": "markdown",
   "metadata": {},
   "source": [
    "### Square numbers"
   ]
  },
  {
   "cell_type": "markdown",
   "metadata": {},
   "source": [
    "Print the ten digits squared in order, one per line."
   ]
  },
  {
   "cell_type": "code",
   "execution_count": 13,
   "metadata": {},
   "outputs": [
    {
     "name": "stdout",
     "output_type": "stream",
     "text": [
      "0\n",
      "1\n",
      "4\n",
      "9\n",
      "16\n",
      "25\n",
      "36\n",
      "49\n",
      "64\n",
      "81\n"
     ]
    }
   ],
   "source": [
    "for x in range(10):\n",
    "    print(x**2)"
   ]
  },
  {
   "cell_type": "markdown",
   "metadata": {},
   "source": [
    "### Powers of two"
   ]
  },
  {
   "cell_type": "markdown",
   "metadata": {},
   "source": [
    "Print the 10 first powers of two in order, one per line."
   ]
  },
  {
   "cell_type": "code",
   "execution_count": 14,
   "metadata": {},
   "outputs": [
    {
     "name": "stdout",
     "output_type": "stream",
     "text": [
      "1\n",
      "2\n",
      "4\n",
      "8\n",
      "16\n",
      "32\n",
      "64\n",
      "128\n",
      "256\n",
      "512\n"
     ]
    }
   ],
   "source": [
    "for x in range(10):\n",
    "    print(2**x)"
   ]
  },
  {
   "cell_type": "markdown",
   "metadata": {},
   "source": [
    "### Enumerate"
   ]
  },
  {
   "cell_type": "markdown",
   "metadata": {},
   "source": [
    "Given the list:\n",
    "\n",
    "<font color='magenta'>alist</font> = [’a1’, ’a2’, ’a3’, ’a4’, ’a5’]\n",
    "\n",
    "iterate over items and indices in a list and print them in pairs."
   ]
  },
  {
   "cell_type": "code",
   "execution_count": 15,
   "metadata": {},
   "outputs": [
    {
     "name": "stdout",
     "output_type": "stream",
     "text": [
      "0 a1\n",
      "1 a2\n",
      "2 a3\n",
      "3 a4\n",
      "4 a5\n"
     ]
    }
   ],
   "source": [
    "alist = ['a1', 'a2', 'a3', 'a4', 'a5']\n",
    "for i, a in enumerate(alist):\n",
    "    print(i, a)"
   ]
  },
  {
   "cell_type": "markdown",
   "metadata": {},
   "source": [
    "### Zip"
   ]
  },
  {
   "cell_type": "markdown",
   "metadata": {},
   "source": [
    "Given the two lists\n",
    "\n",
    "<font color='magenta'>alist</font> = [’a1’, ’a2’, ’a3’, ’a4’, ’a5’]\n",
    "\n",
    "<font color='magenta'>blist</font> = [’b1’, ’b2’, ’b3’, ’b4’, ’b5’]\n",
    "\n",
    "iterate over two lists in parallel and print subsequent values of the two lists in pairs."
   ]
  },
  {
   "cell_type": "code",
   "execution_count": 16,
   "metadata": {},
   "outputs": [
    {
     "name": "stdout",
     "output_type": "stream",
     "text": [
      "a1 b1\n",
      "a2 b2\n",
      "a3 b3\n",
      "a4 b4\n",
      "a5 b5\n"
     ]
    }
   ],
   "source": [
    "alist = ['a1', 'a2', 'a3', 'a4', 'a5']\n",
    "blist = ['b1', 'b2', 'b3', 'b4', 'b5']\n",
    "for a, b in zip(alist, blist):\n",
    "    print(a, b)"
   ]
  },
  {
   "cell_type": "markdown",
   "metadata": {},
   "source": [
    "### Comparisons"
   ]
  },
  {
   "cell_type": "markdown",
   "metadata": {},
   "source": [
    "Make a list of ten random numbers (by hand) and find the biggest value in a list."
   ]
  },
  {
   "cell_type": "code",
   "execution_count": 18,
   "metadata": {},
   "outputs": [
    {
     "name": "stdout",
     "output_type": "stream",
     "text": [
      "11\n",
      "11\n"
     ]
    }
   ],
   "source": [
    "xList = [1,5,11,6,7,9,1,5,4,]\n",
    "\n",
    "# brute force\n",
    "largest = xList[0] \n",
    "for x in xList:\n",
    "    if x>largest:\n",
    "        largest = x\n",
    "print(largest)\n",
    "\n",
    "# build-in function\n",
    "print(max(xList))"
   ]
  },
  {
   "cell_type": "markdown",
   "metadata": {},
   "source": [
    "### Defining functions"
   ]
  },
  {
   "cell_type": "markdown",
   "metadata": {},
   "source": [
    "Write a function <font color='magenta'>nm_to_eV</font> computing and printing the energy in eV based on the wavelength given in nm."
   ]
  },
  {
   "cell_type": "code",
   "execution_count": 20,
   "metadata": {},
   "outputs": [
    {
     "name": "stdout",
     "output_type": "stream",
     "text": [
      "1.6642147651006711\n"
     ]
    }
   ],
   "source": [
    "def nm_to_eV(energy):\n",
    "    print(1239.84/energy)\n",
    "\n",
    "nm_to_eV(745)"
   ]
  },
  {
   "cell_type": "markdown",
   "metadata": {},
   "source": [
    "### Print even numbers"
   ]
  },
  {
   "cell_type": "markdown",
   "metadata": {},
   "source": [
    "Write a function printing every **even** number in the given range, one number per line.\n",
    "\n",
    "Your function has to accept two parameters named <font color='magenta'>start</font> and <font color='magenta'>stop</font>."
   ]
  },
  {
   "cell_type": "code",
   "execution_count": 21,
   "metadata": {},
   "outputs": [
    {
     "name": "stdout",
     "output_type": "stream",
     "text": [
      "0\n",
      "2\n",
      "4\n",
      "6\n",
      "8\n",
      "10\n"
     ]
    }
   ],
   "source": [
    "def evenNumbers(start, stop):\n",
    "    for i in range(start, stop+1):\n",
    "        if i%2==0:\n",
    "            print(i)\n",
    "\n",
    "evenNumbers(0,10)"
   ]
  },
  {
   "cell_type": "markdown",
   "metadata": {},
   "source": [
    "### Sum of even numbers"
   ]
  },
  {
   "cell_type": "markdown",
   "metadata": {},
   "source": [
    "Write a function printing sum of all **even** numbers in the given range. \n",
    "\n",
    "Your function has to accept two parameters named <font color='magenta'>start</font> and <font color='magenta'>stop</font>."
   ]
  },
  {
   "cell_type": "code",
   "execution_count": 22,
   "metadata": {},
   "outputs": [
    {
     "name": "stdout",
     "output_type": "stream",
     "text": [
      "30\n"
     ]
    }
   ],
   "source": [
    "def sumEvenNumbers(start, stop):\n",
    "    result = 0\n",
    "    for i in range(start, stop+1):\n",
    "        if i%2==0:\n",
    "            result += i \n",
    "    print(result)        \n",
    "\n",
    "sumEvenNumbers(0,10)"
   ]
  },
  {
   "cell_type": "markdown",
   "metadata": {},
   "source": [
    "### Multiples of 3 and 5"
   ]
  },
  {
   "cell_type": "markdown",
   "metadata": {},
   "source": [
    "Write a function calculating the sum of all numbers below certain <font color='magenta'>number</font> that are multiples of 3 or 5. Save a number to a variable <font color='magenta'>result</font>."
   ]
  },
  {
   "cell_type": "code",
   "execution_count": 23,
   "metadata": {},
   "outputs": [
    {
     "name": "stdout",
     "output_type": "stream",
     "text": [
      "23\n",
      "2318\n"
     ]
    }
   ],
   "source": [
    "def sumMultiples3and5(number):\n",
    "    res = 0\n",
    "    for i in range(number):\n",
    "        if i%3==0 or i%5==0:\n",
    "            res += i\n",
    "    return res        \n",
    "        \n",
    "result = sumMultiples3and5(10)\n",
    "print(result) # 3 + 5 + 6 + 9 = 23\n",
    "result = sumMultiples3and5(100)\n",
    "print(result)"
   ]
  },
  {
   "cell_type": "markdown",
   "metadata": {},
   "source": [
    "### The largest distance"
   ]
  },
  {
   "cell_type": "markdown",
   "metadata": {},
   "source": [
    "Print the distance between the two furthest apart values in a list."
   ]
  },
  {
   "cell_type": "code",
   "execution_count": 24,
   "metadata": {},
   "outputs": [
    {
     "name": "stdout",
     "output_type": "stream",
     "text": [
      "2.5\n",
      "119\n",
      "1003.5\n"
     ]
    }
   ],
   "source": [
    "list1 = [1, 2, 3, 2.5, 3.5]\n",
    "list2 = [1, 2, 3, 2.5, 3.5, 120]\n",
    "list3 = [1, 2, 3, 2.5, 3.5, -1000]\n",
    "\n",
    "def largestDistance(points):\n",
    "    print(max(points) - min(points))\n",
    "\n",
    "largestDistance(list1)\n",
    "largestDistance(list2)\n",
    "largestDistance(list3)"
   ]
  },
  {
   "cell_type": "markdown",
   "metadata": {},
   "source": [
    "### List comprehension"
   ]
  },
  {
   "cell_type": "markdown",
   "metadata": {},
   "source": [
    "Create a list of numbers below 1000 that are multiples of 3 or 5 in one line."
   ]
  },
  {
   "cell_type": "code",
   "execution_count": 25,
   "metadata": {},
   "outputs": [],
   "source": [
    "alist = [i for i in range(1000) if i%3==0 or i%5==0]"
   ]
  },
  {
   "cell_type": "markdown",
   "metadata": {},
   "source": [
    "### Importing modules"
   ]
  },
  {
   "cell_type": "markdown",
   "metadata": {},
   "source": [
    "Print the factorial of 21 using the imported <font color='magenta'>math</font> module.\n",
    "\n",
    "*Hint: Factorial of 5 equals 1·2·3·4·5=120*"
   ]
  },
  {
   "cell_type": "code",
   "execution_count": 26,
   "metadata": {},
   "outputs": [
    {
     "name": "stdout",
     "output_type": "stream",
     "text": [
      "51090942171709440000\n",
      "51090942171709440000\n",
      "51090942171709440000\n"
     ]
    }
   ],
   "source": [
    "import math\n",
    "print(math.factorial(21))\n",
    "\n",
    "# or\n",
    "\n",
    "from math import factorial\n",
    "print(factorial(21))\n",
    "\n",
    "# or\n",
    "\n",
    "from math import factorial as silnia\n",
    "print(silnia(21))\n",
    "\n",
    "# documentation: https://docs.python.org/3/library/math.html"
   ]
  },
  {
   "cell_type": "markdown",
   "metadata": {},
   "source": [
    "### Numpy"
   ]
  },
  {
   "cell_type": "markdown",
   "metadata": {},
   "source": [
    "Create a vector <font color='magenta'>vec</font> having 1024 equally separated elements in range from -25 to 25."
   ]
  },
  {
   "cell_type": "code",
   "execution_count": 32,
   "metadata": {},
   "outputs": [],
   "source": [
    "import numpy as np\n",
    "\n",
    "vec = np.linspace(-25, 25, 1024)\n",
    "# documentation: https://numpy.org/\n",
    "# homework: check \"Documentation -> The absolute beginner's guide"
   ]
  },
  {
   "cell_type": "markdown",
   "metadata": {},
   "source": [
    "### Slicing arrays"
   ]
  },
  {
   "cell_type": "markdown",
   "metadata": {},
   "source": [
    "Slice the vector from the last task and get:"
   ]
  },
  {
   "cell_type": "markdown",
   "metadata": {},
   "source": [
    " - first element"
   ]
  },
  {
   "cell_type": "code",
   "execution_count": 30,
   "metadata": {},
   "outputs": [],
   "source": [
    "vec1 = vec[0]"
   ]
  },
  {
   "cell_type": "markdown",
   "metadata": {},
   "source": [
    " - last element"
   ]
  },
  {
   "cell_type": "code",
   "execution_count": 31,
   "metadata": {},
   "outputs": [],
   "source": [
    "vec2 = vec[-1]"
   ]
  },
  {
   "cell_type": "markdown",
   "metadata": {},
   "source": [
    " - first 10 elements"
   ]
  },
  {
   "cell_type": "code",
   "execution_count": 33,
   "metadata": {},
   "outputs": [],
   "source": [
    "vec3 = vec[:10]"
   ]
  },
  {
   "cell_type": "markdown",
   "metadata": {},
   "source": [
    " - last 10 elements"
   ]
  },
  {
   "cell_type": "code",
   "execution_count": 34,
   "metadata": {},
   "outputs": [],
   "source": [
    "vec4 = vec[-10:]"
   ]
  },
  {
   "cell_type": "markdown",
   "metadata": {},
   "source": [
    " - array without first and last 10 elements"
   ]
  },
  {
   "cell_type": "code",
   "execution_count": 35,
   "metadata": {},
   "outputs": [],
   "source": [
    "vec5 = vec[10:-10]"
   ]
  },
  {
   "cell_type": "markdown",
   "metadata": {},
   "source": [
    " - every third element"
   ]
  },
  {
   "cell_type": "code",
   "execution_count": 36,
   "metadata": {},
   "outputs": [],
   "source": [
    "vec7 = vec[::3]"
   ]
  }
 ],
 "metadata": {
  "kernelspec": {
   "display_name": "Python 3",
   "language": "python",
   "name": "python3"
  },
  "language_info": {
   "codemirror_mode": {
    "name": "ipython",
    "version": 3
   },
   "file_extension": ".py",
   "mimetype": "text/x-python",
   "name": "python",
   "nbconvert_exporter": "python",
   "pygments_lexer": "ipython3",
   "version": "3.7.4"
  }
 },
 "nbformat": 4,
 "nbformat_minor": 4
}
